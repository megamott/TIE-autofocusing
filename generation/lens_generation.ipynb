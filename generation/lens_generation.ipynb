{
 "cells": [
  {
   "cell_type": "code",
   "execution_count": 94,
   "metadata": {
    "collapsed": true
   },
   "outputs": [],
   "source": [
    "import numpy as np\n",
    "import matplotlib.pyplot as plt\n",
    "from miscellaneous.optics.functions import gauss_1d, lens_1d, rect_1d, sin_1d"
   ]
  },
  {
   "cell_type": "code",
   "execution_count": 95,
   "outputs": [],
   "source": [
    "def um2m(um):\n",
    "    return um * 1e-6\n",
    "\n",
    "def nm2m(nm):\n",
    "    return nm * 1e-9\n",
    "\n",
    "def mm2m(mm):\n",
    "    return mm * 1e-3\n",
    "\n",
    "def px2m(px, px_size_m=5.04e-6):\n",
    "    return px * px_size_m"
   ],
   "metadata": {
    "collapsed": false,
    "pycharm": {
     "name": "#%%\n"
    }
   }
  },
  {
   "cell_type": "code",
   "execution_count": 96,
   "outputs": [],
   "source": [
    "width = 512\n",
    "x = np.arange(-width // 2, width // 2)\n",
    "px_size = um2m(5)\n",
    "wavelength = nm2m(555)"
   ],
   "metadata": {
    "collapsed": false,
    "pycharm": {
     "name": "#%%\n"
    }
   }
  },
  {
   "cell_type": "code",
   "execution_count": 97,
   "outputs": [],
   "source": [
    "i_amplitude = 0.5\n",
    "i_wx= width / 10\n",
    "i_x0 = 0\n",
    "# intensity = gauss_1d(x, a=i_amplitude, w=i_wx, x0=i_x0, y0=0.)\n",
    "intensity = i_amplitude * np.ones(width)"
   ],
   "metadata": {
    "collapsed": false,
    "pycharm": {
     "name": "#%%\n"
    }
   }
  },
  {
   "cell_type": "code",
   "execution_count": 116,
   "outputs": [],
   "source": [
    "focus = mm2m(100)\n",
    "# phase = lens_1d(\n",
    "#     px2m(x, px_size_m=px_size),\n",
    "#     focus,\n",
    "#     wavelength,\n",
    "#     width * px_size,\n",
    "#     converge=1\n",
    "# )\n",
    "phase = sin_1d(x, T=24*np.pi)"
   ],
   "metadata": {
    "collapsed": false,
    "pycharm": {
     "name": "#%%\n"
    }
   }
  },
  {
   "cell_type": "code",
   "execution_count": 117,
   "outputs": [],
   "source": [
    "a_wx = width // 2\n",
    "a_x0 = 0\n",
    "aperture = rect_1d(x, a=1, w=a_wx, x0=a_x0)\n",
    "\n",
    "complex_field = np.sqrt(intensity) * np.exp(1j * phase) * aperture"
   ],
   "metadata": {
    "collapsed": false,
    "pycharm": {
     "name": "#%%\n"
    }
   }
  },
  {
   "cell_type": "code",
   "execution_count": 121,
   "outputs": [],
   "source": [
    "np.save('/Users/m.konoplyov/Programming/Python/TIE-autofocusing/images/sin_0.5_intensity.npy', complex_field)"
   ],
   "metadata": {
    "collapsed": false,
    "pycharm": {
     "name": "#%%\n"
    }
   }
  },
  {
   "cell_type": "code",
   "execution_count": 120,
   "outputs": [
    {
     "data": {
      "text/plain": "[<matplotlib.lines.Line2D at 0x12ce84b80>]"
     },
     "execution_count": 120,
     "metadata": {},
     "output_type": "execute_result"
    },
    {
     "data": {
      "text/plain": "<Figure size 432x288 with 1 Axes>",
      "image/png": "[encoded data removed]"
     },
     "metadata": {
      "needs_background": "light"
     },
     "output_type": "display_data"
    }
   ],
   "source": [
    "plt.plot(np.abs(complex_field))"
   ],
   "metadata": {
    "collapsed": false,
    "pycharm": {
     "name": "#%%\n"
    }
   }
  },
  {
   "cell_type": "code",
   "execution_count": null,
   "outputs": [],
   "source": [],
   "metadata": {
    "collapsed": false,
    "pycharm": {
     "name": "#%%\n"
    }
   }
  }
 ],
 "metadata": {
  "kernelspec": {
   "display_name": "Python 3",
   "language": "python",
   "name": "python3"
  },
  "language_info": {
   "codemirror_mode": {
    "name": "ipython",
    "version": 2
   },
   "file_extension": ".py",
   "mimetype": "text/x-python",
   "name": "python",
   "nbconvert_exporter": "python",
   "pygments_lexer": "ipython2",
   "version": "2.7.6"
  }
 },
 "nbformat": 4,
 "nbformat_minor": 0
}